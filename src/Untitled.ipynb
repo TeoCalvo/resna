{
 "cells": [
  {
   "cell_type": "code",
   "execution_count": 1,
   "metadata": {},
   "outputs": [],
   "source": [
    "import requests\n",
    "from bs4 import BeautifulSoup\n",
    "import pandas as pd"
   ]
  },
  {
   "cell_type": "code",
   "execution_count": 2,
   "metadata": {},
   "outputs": [],
   "source": [
    "def get_apparitions( url ):\n",
    "    html = requests.get(url)\n",
    "    bs_obj = BeautifulSoup( html.text, \"lxml\")\n",
    "    h4 = bs_obj.find({\"h4\":\"Aparições em títulos da série:\"})\n",
    "    apparitions = [ i.text.replace(\"/\", \"-\") for i in h4.findNext().find_all(\"a\") ]\n",
    "    return apparitions\n",
    "\n",
    "def get_persona( persona_url ):\n",
    "    apparitions = get_apparitions( persona_url )\n",
    "    persona = persona_url.split(\"/\")[-2]\n",
    "    dct = { \"persona\":[persona]*len(apparitions),\n",
    "            \"apparitions\":apparitions}\n",
    "    df = pd.DataFrame(dct)\n",
    "    return df\n",
    "\n",
    "def get_personas_urls( url ):\n",
    "    html = requests.get( url )\n",
    "    bs_obj = BeautifulSoup( html.text, \"lxml\" )\n",
    "    h3s = bs_obj.find_all( \"h3\", style=\"padding-left: 30px;\" )\n",
    "    personas_urls = []\n",
    "    for i in h3s:\n",
    "        personas_urls += [ j.attrs[\"href\"] for j in i.findNext().find_all(\"a\") ]\n",
    "    return personas_urls\n",
    "\n",
    "def get_all_personas( ):\n",
    "    url = \"http://www.residentevildatabase.com/personagens/\"\n",
    "    personas_urls = get_personas_urls( url )\n",
    "    dfs = [ get_persona(i) for i in personas_urls ]\n",
    "    df = pd.concat( dfs, ignore_index=True )\n",
    "    return df    "
   ]
  },
  {
   "cell_type": "markdown",
   "metadata": {},
   "source": [
    "### Getting data from website (residentevildatabase.com)"
   ]
  },
  {
   "cell_type": "code",
   "execution_count": 3,
   "metadata": {},
   "outputs": [],
   "source": [
    "url = \"http://www.residentevildatabase.com/personagens/\"\n",
    "df = get_all_personas()"
   ]
  },
  {
   "cell_type": "markdown",
   "metadata": {},
   "source": [
    "### Transforming data to transacional dataset"
   ]
  },
  {
   "cell_type": "code",
   "execution_count": 4,
   "metadata": {},
   "outputs": [],
   "source": [
    "def sort_names( row ):\n",
    "    'Method to drop same relationship, i.e., persona_1 -> persona_2, persona_2 -> persona_1'\n",
    "    names = [ row[\"persona_1\"], row[\"persona_2\"] ]\n",
    "    names.sort()\n",
    "    names = \", \".join(names)\n",
    "    return names"
   ]
  },
  {
   "cell_type": "code",
   "execution_count": 5,
   "metadata": {},
   "outputs": [
    {
     "data": {
      "text/html": [
       "<div>\n",
       "<style scoped>\n",
       "    .dataframe tbody tr th:only-of-type {\n",
       "        vertical-align: middle;\n",
       "    }\n",
       "\n",
       "    .dataframe tbody tr th {\n",
       "        vertical-align: top;\n",
       "    }\n",
       "\n",
       "    .dataframe thead th {\n",
       "        text-align: right;\n",
       "    }\n",
       "</style>\n",
       "<table border=\"1\" class=\"dataframe\">\n",
       "  <thead>\n",
       "    <tr style=\"text-align: right;\">\n",
       "      <th></th>\n",
       "      <th>persona_1</th>\n",
       "      <th>persona_2</th>\n",
       "      <th>apparitions</th>\n",
       "    </tr>\n",
       "  </thead>\n",
       "  <tbody>\n",
       "    <tr>\n",
       "      <th>1</th>\n",
       "      <td>ada-wong</td>\n",
       "      <td>annette-birkin</td>\n",
       "      <td>Biohazard - Resident Evil 2</td>\n",
       "    </tr>\n",
       "    <tr>\n",
       "      <th>2</th>\n",
       "      <td>ada-wong</td>\n",
       "      <td>ben-bertolucci</td>\n",
       "      <td>Biohazard - Resident Evil 2</td>\n",
       "    </tr>\n",
       "    <tr>\n",
       "      <th>3</th>\n",
       "      <td>ada-wong</td>\n",
       "      <td>brian-irons</td>\n",
       "      <td>Biohazard - Resident Evil 2</td>\n",
       "    </tr>\n",
       "    <tr>\n",
       "      <th>4</th>\n",
       "      <td>ada-wong</td>\n",
       "      <td>claire-redfield</td>\n",
       "      <td>Biohazard - Resident Evil 2</td>\n",
       "    </tr>\n",
       "    <tr>\n",
       "      <th>5</th>\n",
       "      <td>ada-wong</td>\n",
       "      <td>hunk</td>\n",
       "      <td>Biohazard - Resident Evil 2</td>\n",
       "    </tr>\n",
       "  </tbody>\n",
       "</table>\n",
       "</div>"
      ],
      "text/plain": [
       "  persona_1        persona_2                  apparitions\n",
       "1  ada-wong   annette-birkin  Biohazard - Resident Evil 2\n",
       "2  ada-wong   ben-bertolucci  Biohazard - Resident Evil 2\n",
       "3  ada-wong      brian-irons  Biohazard - Resident Evil 2\n",
       "4  ada-wong  claire-redfield  Biohazard - Resident Evil 2\n",
       "5  ada-wong             hunk  Biohazard - Resident Evil 2"
      ]
     },
     "execution_count": 5,
     "metadata": {},
     "output_type": "execute_result"
    }
   ],
   "source": [
    "df_analysis = pd.merge( left=df, right=df,\n",
    "                        how=\"left\", on=\"apparitions\",\n",
    "                        suffixes=(\"_1\", \"_2\") )\n",
    "\n",
    "df_analysis = df_analysis[ df_analysis[\"persona_1\"] != df_analysis[\"persona_2\"] ]\n",
    "\n",
    "df_analysis[\"names\"] = df_analysis.apply(sort_names, axis=1)\n",
    "df_analysis = df_analysis.drop_duplicates(subset=[\"names\", \"apparitions\"])\n",
    "\n",
    "df_analysis = df_analysis[[\"persona_1\", \"persona_2\", \"apparitions\"]]\n",
    "\n",
    "df_analysis.head()"
   ]
  }
 ],
 "metadata": {
  "kernelspec": {
   "display_name": "Python [conda env:teo-env]",
   "language": "python",
   "name": "conda-env-teo-env-py"
  },
  "language_info": {
   "codemirror_mode": {
    "name": "ipython",
    "version": 3
   },
   "file_extension": ".py",
   "mimetype": "text/x-python",
   "name": "python",
   "nbconvert_exporter": "python",
   "pygments_lexer": "ipython3",
   "version": "3.6.7"
  }
 },
 "nbformat": 4,
 "nbformat_minor": 2
}
